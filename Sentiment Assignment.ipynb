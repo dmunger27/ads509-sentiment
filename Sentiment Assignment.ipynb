{
 "cells": [
  {
   "cell_type": "markdown",
   "id": "7f79baf9",
   "metadata": {},
   "source": [
    "# ADS 509 Sentiment Assignment\n",
    "\n",
    "This notebook holds the Sentiment Assignment for Module 6 in ADS 509, Applied Text Mining. Work through this notebook, writing code and answering questions where required. \n",
    "\n",
    "In a previous assignment you put together Twitter data and lyrics data on two artists. In this assignment we apply sentiment analysis to those data sets. If, for some reason, you did not complete that previous assignment, data to use for this assignment can be found in the assignment materials section of Blackboard. \n"
   ]
  },
  {
   "cell_type": "markdown",
   "id": "aae8e2e1",
   "metadata": {},
   "source": [
    "## General Assignment Instructions\n",
    "\n",
    "These instructions are included in every assignment, to remind you of the coding standards for the class. Feel free to delete this cell after reading it. \n",
    "\n",
    "One sign of mature code is conforming to a style guide. We recommend the [Google Python Style Guide](https://google.github.io/styleguide/pyguide.html). If you use a different style guide, please include a cell with a link. \n",
    "\n",
    "Your code should be relatively easy-to-read, sensibly commented, and clean. Writing code is a messy process, so please be sure to edit your final submission. Remove any cells that are not needed or parts of cells that contain unnecessary code. Remove inessential `import` statements and make sure that all such statements are moved into the designated cell. \n",
    "\n",
    "Make use of non-code cells for written commentary. These cells should be grammatical and clearly written. In some of these cells you will have questions to answer. The questions will be marked by a \"Q:\" and will have a corresponding \"A:\" spot for you. *Make sure to answer every question marked with a `Q:` for full credit.* \n"
   ]
  },
  {
   "cell_type": "code",
   "execution_count": 1,
   "id": "e2d096b7",
   "metadata": {},
   "outputs": [],
   "source": [
    "import os\n",
    "import re\n",
    "import emoji\n",
    "import pandas as pd\n",
    "import numpy as np\n",
    "\n",
    "from collections import Counter, defaultdict\n",
    "from string import punctuation\n",
    "\n",
    "from nltk.corpus import stopwords\n",
    "\n",
    "sw = stopwords.words(\"english\")"
   ]
  },
  {
   "cell_type": "code",
   "execution_count": 2,
   "id": "6b555ab2",
   "metadata": {},
   "outputs": [],
   "source": [
    "# Add any additional import statements you need here\n",
    "import glob\n",
    "from nltk.tokenize import word_tokenize\n",
    "from googletrans import Translator\n",
    "import matplotlib.pyplot as plt\n",
    "import emoji"
   ]
  },
  {
   "cell_type": "code",
   "execution_count": 3,
   "id": "923b5a86",
   "metadata": {},
   "outputs": [],
   "source": [
    "# change `data_location` to the location of the folder on your machine.\n",
    "data_location = \"/Users/dallinmunger/Desktop/USD_Work/ADS 509/Module 1/\"\n",
    "\n",
    "# These subfolders should still work if you correctly stored the \n",
    "# data from the Module 1 assignment\n",
    "twitter_folder = \"twitter/\"\n",
    "lyrics_folder = \"lyrics/\"\n",
    "\n",
    "positive_words_file = \"positive-words.txt\"\n",
    "negative_words_file = \"negative-words.txt\"\n",
    "tidy_text_file = \"tidytext_sentiments.txt\""
   ]
  },
  {
   "cell_type": "markdown",
   "id": "9d3bf93e",
   "metadata": {},
   "source": [
    "## Data Input\n",
    "\n",
    "Now read in each of the corpora. For the lyrics data, it may be convenient to store the entire contents of the file to make it easier to inspect the titles individually, as you'll do in the last part of the assignment. In the solution, I stored the lyrics data in a dictionary with two dimensions of keys: artist and song. The value was the file contents. A Pandas data frame would work equally well. \n",
    "\n",
    "For the Twitter data, we only need the description field for this assignment. Feel free all the descriptions read it into a data structure. In the solution, I stored the descriptions as a dictionary of lists, with the key being the artist. \n",
    "\n",
    "\n"
   ]
  },
  {
   "cell_type": "code",
   "execution_count": 4,
   "id": "37d70801",
   "metadata": {},
   "outputs": [],
   "source": [
    "# Read in the lyrics data\n",
    "artists = ['andreabocelli', 'joshgroban']\n",
    "# Read in the lyrics data\n",
    "\n",
    "# Create empty lists\n",
    "songs = []\n",
    "title = []\n",
    "artist_name = []\n",
    "for i in range(len(artists)):\n",
    "    # Create path to files\n",
    "    name = data_location + lyrics_folder + artists[i] + '/*.txt'\n",
    "    # Read in all song files, add to list\n",
    "    songs.append([open(filename).read() for filename in glob.glob(name)])\n",
    "    # Extract title from the songs, add to list\n",
    "    title.append([re.findall(r'\"([^\"]*)\"', i) for i in songs[i]])\n",
    "    # Create list of artist name\n",
    "    artist_name.append([artists[i]]*len(songs[i]))\n",
    "lyrics_df = pd.DataFrame()\n",
    "title = title[0] + title[1]\n",
    "lyrics_df['title'] = sum(title, [])\n",
    "lyrics_df['artist_name'] = artist_name[0] + artist_name[1]\n",
    "lyrics_df['songs'] = songs[0] + songs[1]\n",
    "\n",
    "# Translate lyrics\n",
    "translator = Translator()\n",
    "lyrics_df['translated_songs'] = [translator.translate(i).text for i in lyrics_df['songs']]"
   ]
  },
  {
   "cell_type": "code",
   "execution_count": 5,
   "id": "debcac5a",
   "metadata": {},
   "outputs": [],
   "source": [
    "# Read in the twitter data\n",
    "bocelli_followers = pd.read_csv(data_location + twitter_folder + 'AndreaBocelli_followers_data.txt', sep = '\\t')\n",
    "groban_followers = pd.read_csv(data_location + twitter_folder + 'joshgroban_followers_data.txt', sep = '\\t')\n",
    "# Create twitter df with artist name as one column, descriptions as the other\n",
    "twitter_df = pd.DataFrame()\n",
    "twitter_df['artist_name'] = ['andreabocelli']*len(bocelli_followers) + ['joshgroban']*len(groban_followers)\n",
    "twitter_df['description'] = pd.concat([bocelli_followers['description'], groban_followers['description']], axis=0, ignore_index=True)"
   ]
  },
  {
   "cell_type": "code",
   "execution_count": 6,
   "id": "af9e7a4b",
   "metadata": {},
   "outputs": [],
   "source": [
    "# Read in the positive and negative words and the\n",
    "# tidytext sentiment. Store these so that the positive\n",
    "# words are associated with a score of +1 and negative words\n",
    "# are associated with a score of -1. You can use a dataframe or a \n",
    "# dictionary for this.\n",
    "\n",
    "# Read in data, add sentiment and score column - positive\n",
    "positive = pd.read_csv(positive_words_file, sep = '\\t').iloc[33:,].reset_index(drop = True)\n",
    "positive['sentiment'] = 'positive'\n",
    "positive['score'] = 1\n",
    "positive.columns = ['word', 'sentiment', 'score']\n",
    "# Negative\n",
    "negative = pd.read_csv(negative_words_file, sep = '\\t', encoding='latin-1').iloc[33:,].reset_index(drop = True)\n",
    "negative['sentiment'] = 'negative'\n",
    "negative['score'] = -1\n",
    "negative.columns = ['word', 'sentiment', 'score']\n",
    "# Tidy text\n",
    "tidy_text = pd.read_csv(tidy_text_file, sep = '\\t')\n",
    "tidy_text['score'] = np.where(tidy_text['sentiment'] == 'positive', 1, -1)\n",
    "tidy_text = tidy_text[['word', 'sentiment', 'score']]\n",
    "# Combine all 3 dataframes\n",
    "dfs = [positive, negative, tidy_text]\n",
    "combined_lexicons = pd.concat(dfs).reset_index(drop = True)"
   ]
  },
  {
   "cell_type": "markdown",
   "id": "6a5f3b12",
   "metadata": {},
   "source": [
    "## Sentiment Analysis on Songs\n",
    "\n",
    "In this section, score the sentiment for all the songs for both artists in your data set. Score the sentiment by manually calculating the sentiment using the combined lexicons provided in this repository. \n",
    "\n",
    "After you have calculated these sentiments, answer the questions at the end of this section.\n"
   ]
  },
  {
   "cell_type": "code",
   "execution_count": 7,
   "id": "664f8d8f",
   "metadata": {},
   "outputs": [
    {
     "data": {
      "text/html": [
       "<div>\n",
       "<style scoped>\n",
       "    .dataframe tbody tr th:only-of-type {\n",
       "        vertical-align: middle;\n",
       "    }\n",
       "\n",
       "    .dataframe tbody tr th {\n",
       "        vertical-align: top;\n",
       "    }\n",
       "\n",
       "    .dataframe thead th {\n",
       "        text-align: right;\n",
       "    }\n",
       "</style>\n",
       "<table border=\"1\" class=\"dataframe\">\n",
       "  <thead>\n",
       "    <tr style=\"text-align: right;\">\n",
       "      <th></th>\n",
       "      <th>title</th>\n",
       "      <th>artist_name</th>\n",
       "      <th>songs</th>\n",
       "      <th>translated_songs</th>\n",
       "      <th>sentiment_score</th>\n",
       "    </tr>\n",
       "  </thead>\n",
       "  <tbody>\n",
       "    <tr>\n",
       "      <th>0</th>\n",
       "      <td>Vivo Per Lei</td>\n",
       "      <td>andreabocelli</td>\n",
       "      <td>\"Vivo Per Lei\"\\n\\n\\n\\nVivo per lei da quando s...</td>\n",
       "      <td>\"I live for her\"\\n\\n\\n\\nI live for her since y...</td>\n",
       "      <td>-0.014881</td>\n",
       "    </tr>\n",
       "    <tr>\n",
       "      <th>1</th>\n",
       "      <td>E Lucevan Le Stelle</td>\n",
       "      <td>andreabocelli</td>\n",
       "      <td>\"E Lucevan Le Stelle\"\\n\\n\\n\\nE lucevan le stel...</td>\n",
       "      <td>\"And the stars were shining\"\\n\\n\\n\\nAnd Luceva...</td>\n",
       "      <td>0.041916</td>\n",
       "    </tr>\n",
       "    <tr>\n",
       "      <th>2</th>\n",
       "      <td>Vivere</td>\n",
       "      <td>andreabocelli</td>\n",
       "      <td>\"Vivere\"\\n\\n\\n\\nVivo ricopiando yesterday \\ne ...</td>\n",
       "      <td>\"To live\"\\n\\n\\n\\nAlive by copying Yesterday\\nA...</td>\n",
       "      <td>0.039394</td>\n",
       "    </tr>\n",
       "    <tr>\n",
       "      <th>3</th>\n",
       "      <td>Caruso</td>\n",
       "      <td>andreabocelli</td>\n",
       "      <td>\"Caruso\"\\n\\n\\n\\nQui dove il mare luccica,\\ne t...</td>\n",
       "      <td>\"Caruso\"\\n\\n\\n\\nHere where the sea shines,\\nan...</td>\n",
       "      <td>0.035191</td>\n",
       "    </tr>\n",
       "    <tr>\n",
       "      <th>4</th>\n",
       "      <td>La Fleur Que Tu M'avais Jetée</td>\n",
       "      <td>andreabocelli</td>\n",
       "      <td>\"La Fleur Que Tu M'avais Jetée\"\\n\\n\\n\\nLa fleu...</td>\n",
       "      <td>\"The flower you threw me\"\\n\\n\\n\\nThe flower yo...</td>\n",
       "      <td>-0.055901</td>\n",
       "    </tr>\n",
       "  </tbody>\n",
       "</table>\n",
       "</div>"
      ],
      "text/plain": [
       "                           title    artist_name  \\\n",
       "0                   Vivo Per Lei  andreabocelli   \n",
       "1            E Lucevan Le Stelle  andreabocelli   \n",
       "2                         Vivere  andreabocelli   \n",
       "3                         Caruso  andreabocelli   \n",
       "4  La Fleur Que Tu M'avais Jetée  andreabocelli   \n",
       "\n",
       "                                               songs  \\\n",
       "0  \"Vivo Per Lei\"\\n\\n\\n\\nVivo per lei da quando s...   \n",
       "1  \"E Lucevan Le Stelle\"\\n\\n\\n\\nE lucevan le stel...   \n",
       "2  \"Vivere\"\\n\\n\\n\\nVivo ricopiando yesterday \\ne ...   \n",
       "3  \"Caruso\"\\n\\n\\n\\nQui dove il mare luccica,\\ne t...   \n",
       "4  \"La Fleur Que Tu M'avais Jetée\"\\n\\n\\n\\nLa fleu...   \n",
       "\n",
       "                                    translated_songs  sentiment_score  \n",
       "0  \"I live for her\"\\n\\n\\n\\nI live for her since y...        -0.014881  \n",
       "1  \"And the stars were shining\"\\n\\n\\n\\nAnd Luceva...         0.041916  \n",
       "2  \"To live\"\\n\\n\\n\\nAlive by copying Yesterday\\nA...         0.039394  \n",
       "3  \"Caruso\"\\n\\n\\n\\nHere where the sea shines,\\nan...         0.035191  \n",
       "4  \"The flower you threw me\"\\n\\n\\n\\nThe flower yo...        -0.055901  "
      ]
     },
     "execution_count": 7,
     "metadata": {},
     "output_type": "execute_result"
    }
   ],
   "source": [
    "def sentiment_score(text):\n",
    "    sentiment_score = 0\n",
    "    # Tokenize song\n",
    "    tokens = word_tokenize(text.lower())\n",
    "    # Filter through tokens\n",
    "    for token in tokens:\n",
    "        # Check if token is in the lexicon\n",
    "        if combined_lexicons['word'].eq(token).sum() > 0:\n",
    "            # Save the index\n",
    "            index = combined_lexicons['word'].eq(token).idxmax()\n",
    "            # Add the sentiment score at that index to the combined score\n",
    "            sentiment_score += combined_lexicons['score'][index]\n",
    "    return sentiment_score/len(tokens)\n",
    "# Apply sentiment score function to each set of lyrics\n",
    "lyrics_df['sentiment_score'] = lyrics_df['translated_songs'].apply(sentiment_score)\n",
    "lyrics_df.head()"
   ]
  },
  {
   "cell_type": "code",
   "execution_count": 8,
   "id": "82ab871b",
   "metadata": {},
   "outputs": [
    {
     "name": "stdout",
     "output_type": "stream",
     "text": [
      "Average sentiment:\n",
      "               sentiment_score\n",
      "artist_name                   \n",
      "andreabocelli        -0.002694\n",
      "joshgroban            0.031166\n"
     ]
    }
   ],
   "source": [
    "# Higher average sentiment\n",
    "print('Average sentiment:')\n",
    "print(lyrics_df.groupby(['artist_name']).mean())"
   ]
  },
  {
   "cell_type": "code",
   "execution_count": 9,
   "id": "a4f6a4f5",
   "metadata": {},
   "outputs": [
    {
     "name": "stdout",
     "output_type": "stream",
     "text": [
      "\n",
      "Highest sentiment song (Bocelli):\n",
      "                       title  sentiment_score\n",
      "17  Il Mare Calmo Della Sera         0.113636\n",
      "\n",
      "Lowest sentiment song (Bocelli):\n",
      "              title  sentiment_score\n",
      "16  Panis Angelicus        -0.142857\n"
     ]
    }
   ],
   "source": [
    "# Highest and lowest sentiment for Andrea Bocelli\n",
    "print('\\nHighest sentiment song (Bocelli):')\n",
    "bocelli = lyrics_df[lyrics_df['artist_name'] == 'andreabocelli']\n",
    "print(bocelli[bocelli['sentiment_score'] == bocelli['sentiment_score'].max()][['title', 'sentiment_score']])\n",
    "print('\\nLowest sentiment song (Bocelli):')\n",
    "print(bocelli[bocelli['sentiment_score'] == bocelli['sentiment_score'].min()][['title', 'sentiment_score']])"
   ]
  },
  {
   "cell_type": "code",
   "execution_count": 10,
   "id": "f4a6672b",
   "metadata": {},
   "outputs": [
    {
     "name": "stdout",
     "output_type": "stream",
     "text": [
      "\n",
      "Highest sentiment song (Groban):\n",
      "                          title  sentiment_score\n",
      "23  Jesu, Joy Of Man's Desiring         0.224138\n",
      "\n",
      "Lowest sentiment song (Groban):\n",
      "                                  title  sentiment_score\n",
      "32  Let Me Fall (From Cirque Du Soleil)        -0.065868\n"
     ]
    }
   ],
   "source": [
    "# Highest and lowest sentiment for Josh Groban\n",
    "print('\\nHighest sentiment song (Groban):')\n",
    "groban = lyrics_df[lyrics_df['artist_name'] == 'joshgroban']\n",
    "print(groban[groban['sentiment_score'] == groban['sentiment_score'].max()][['title', 'sentiment_score']])\n",
    "print('\\nLowest sentiment song (Groban):')\n",
    "print(groban[groban['sentiment_score'] == groban['sentiment_score'].min()][['title', 'sentiment_score']])"
   ]
  },
  {
   "cell_type": "markdown",
   "id": "1f8334f4",
   "metadata": {},
   "source": [
    "### Questions\n",
    "\n",
    "Q: Overall, which artist has the higher average sentiment per song? \n",
    "\n",
    "A: Josh Groban does, with an average sentiment of 0.031166 compared to Andre Bocelli's average sentiment of -0.002699.\n",
    "\n",
    "---\n",
    "\n",
    "Q: For your first artist, what songs have the highest and lowest sentiments? Print those songs to the screen.\n",
    "\n",
    "A: The songs are printed above. (Highest: Il Mare Calmo Della Sera, Lowest: Panis Angelicus)\n",
    "\n",
    "---\n",
    "\n",
    "Q: For your second artist, what songs have the highest and lowest sentiments? Print those songs to the screen.\n",
    "\n",
    "A: The songs are printed above. (Highest: Jesu, Joy of Man's Desiring, Lowest: Let Me Fall (From Cirque Du Soleil))\n",
    "\n",
    "---\n",
    "\n",
    "Q: Plot the distributions of the sentiment scores for both artists. You can use `seaborn` to plot densities or plot histograms in matplotlib.\n",
    "\n",
    "\n"
   ]
  },
  {
   "cell_type": "code",
   "execution_count": 11,
   "id": "07a2bec0",
   "metadata": {},
   "outputs": [
    {
     "data": {
      "image/png": "[encoded data removed]",
      "text/plain": [
       "<Figure size 432x288 with 2 Axes>"
      ]
     },
     "metadata": {
      "needs_background": "light"
     },
     "output_type": "display_data"
    }
   ],
   "source": [
    "# Plot distribution of sentiment scores\n",
    "fig, ax = plt.subplots(2, 1, sharex = True)\n",
    "fig.tight_layout()\n",
    "ax[0].hist(bocelli['sentiment_score'])\n",
    "ax[0].set_title('Andrea Bocelli Sentiment Scores')\n",
    "ax[1].hist(groban['sentiment_score'])\n",
    "ax[1].set_title('Josh Groban Sentiment Scores')\n",
    "plt.show()"
   ]
  },
  {
   "cell_type": "markdown",
   "id": "b3fe644d",
   "metadata": {},
   "source": [
    "## Sentiment Analysis on Twitter Descriptions\n",
    "\n",
    "In this section, define two sets of emojis you designate as positive and negative. Make sure to have at least 10 emojis per set. You can learn about the most popular emojis on Twitter at [the emojitracker](https://emojitracker.com/). \n",
    "\n",
    "Associate your positive emojis with a score of +1, negative with -1. Score the average sentiment of your two artists based on the Twitter descriptions of their followers. The average sentiment can just be the total score divided by number of followers. "
   ]
  },
  {
   "cell_type": "code",
   "execution_count": 12,
   "id": "1a5c1d25",
   "metadata": {},
   "outputs": [
    {
     "data": {
      "text/plain": [
       "<bound method NDFrame.head of         artist_name                                        description  \\\n",
       "0     andreabocelli                                                 na   \n",
       "1     andreabocelli  #Ateísmo. #Ciência. #Tecnologia. #Administraçã...   \n",
       "2     andreabocelli                              Let your dreams alive   \n",
       "3     andreabocelli  My wife,traveling, BBQ, and astronomy are my p...   \n",
       "4     andreabocelli                                                 na   \n",
       "...             ...                                                ...   \n",
       "9995     joshgroban                                             😍😍❤❤😘😘   \n",
       "9996     joshgroban                                                 na   \n",
       "9997     joshgroban                                                 na   \n",
       "9998     joshgroban  Irlande 🇮🇪☘️🦢 | Maï ♡ | @vincentniclo ☆ | @col...   \n",
       "9999     joshgroban  Stumbling along through life; loves the earth ...   \n",
       "\n",
       "      sentiment_score  \n",
       "0            0.000000  \n",
       "1            0.000000  \n",
       "2            0.000000  \n",
       "3            0.000000  \n",
       "4            0.000000  \n",
       "...               ...  \n",
       "9995         0.153846  \n",
       "9996         0.000000  \n",
       "9997         0.000000  \n",
       "9998         0.000000  \n",
       "9999         0.000000  \n",
       "\n",
       "[10000 rows x 3 columns]>"
      ]
     },
     "execution_count": 12,
     "metadata": {},
     "output_type": "execute_result"
    }
   ],
   "source": [
    "# Positive emoji list\n",
    "positive_emojis = [':two_hearts:', ':red_heart:', ':thumbs_up:', ':sparkling_heart:', ':blue_heart:',\n",
    "                  ':beaming_face_with_smiling_eyes:', ':slightly_smiling_face:', ':grinning_face_with_smiling_eyes:', \n",
    "                  ':grinning_face_with_big_eyes:', ':grinning_face:', ':grinning_face_with_sweat:', ':revolving_hearts:',\n",
    "                  ':smiling_face_with_heart-eyes:', ':face_with_tears_of_joy:', ':folded_hands:']\n",
    "positive_emojis = [emoji.emojize(i) for i in positive_emojis]\n",
    "positive_emojis = pd.DataFrame({'emojis':positive_emojis, 'sentiment':[1 for i in range(15)]})\n",
    "\n",
    "# Negative emoji list\n",
    "negative_emojis = [':pensive_face:', ':flushed_face:', ':confused_face:', ':worried_face:', ':slightly_frowning_face:',\n",
    "                  ':frowning_face:', ':crying_face:', ':loudly_crying_face:', ':pouting_face:', ':angry_face:',\n",
    "                  ':clown_face:', ':unamused_face:', ':lying_face:', ':grimacing_face:', ':nauseated_face:']\n",
    "negative_emojis = [emoji.emojize(i) for i in negative_emojis]\n",
    "negative_emojis = pd.DataFrame({'emojis':negative_emojis, 'sentiment':[-1 for i in range(15)]})\n",
    "\n",
    "# Combine positive and negative into one df\n",
    "emojis_lexicon = pd.concat([positive_emojis, negative_emojis], ignore_index=True)\n",
    "\n",
    "# Create sentiment column\n",
    "def sentiment_score(text):\n",
    "    sentiment_score = 0\n",
    "    # Tokenize song\n",
    "    tokens = word_tokenize(text.lower())\n",
    "    tokens = sum([emoji.get_emoji_regexp().split(i) for i in tokens],[])\n",
    "    # Filter through tokens\n",
    "    for token in tokens:\n",
    "        # Check if token is in the lexicon\n",
    "        if emojis_lexicon['emojis'].eq(token).sum() > 0:\n",
    "            # Save the index\n",
    "            index = emojis_lexicon['emojis'].eq(token).idxmax()\n",
    "            # Add the sentiment score at that index to the combined score\n",
    "            sentiment_score += emojis_lexicon['sentiment'][index]\n",
    "    return sentiment_score/len(tokens)\n",
    "\n",
    "\n",
    "twitter_df['description'] = twitter_df['description'].fillna('na')\n",
    "twitter_df['sentiment_score'] = twitter_df['description'].apply(sentiment_score)\n",
    "twitter_df.head"
   ]
  },
  {
   "cell_type": "code",
   "execution_count": 13,
   "id": "d4ed7616",
   "metadata": {},
   "outputs": [
    {
     "name": "stdout",
     "output_type": "stream",
     "text": [
      "Average sentiment:\n",
      "               sentiment_score\n",
      "artist_name                   \n",
      "andreabocelli         0.003861\n",
      "joshgroban            0.002491\n"
     ]
    }
   ],
   "source": [
    "# Higher average sentiment\n",
    "print('Average sentiment:')\n",
    "print(twitter_df.groupby(['artist_name']).mean())"
   ]
  },
  {
   "cell_type": "code",
   "execution_count": 14,
   "id": "77ac638b",
   "metadata": {},
   "outputs": [
    {
     "name": "stdout",
     "output_type": "stream",
     "text": [
      "Positive Andrea Bocelli Emojis:\n",
      "Counter({'❤️': 121, '💙': 76, '🙏': 24, '😍': 23, '💕': 19, '💖': 18, '💞': 7, '😂': 6, '😃': 5, '🙂': 5, '👍': 5, '😁': 3, '😅': 2, '😀': 2, '😄': 1})\n",
      "\n",
      "Negative Andrea Bocelli Emojis:\n",
      "Counter({'😡': 5, '😔': 2, '🙁': 1, '😠': 1})\n"
     ]
    }
   ],
   "source": [
    "# Tokenize the descriptions\n",
    "tokenized_description = []\n",
    "for text in twitter_df['description']:\n",
    "    tokens = word_tokenize(text.lower())\n",
    "    tokens = sum([emoji.get_emoji_regexp().split(i) for i in tokens],[])\n",
    "    tokenized_description.append(tokens)\n",
    "twitter_df['tokenized_description'] = tokenized_description\n",
    "\n",
    "# Split the dataframe by artist\n",
    "bocelli = twitter_df[twitter_df['artist_name'] == 'andreabocelli']\n",
    "groban = twitter_df[twitter_df['artist_name'] == 'joshgroban']\n",
    "\n",
    "# Make the tokenized description one long list\n",
    "bocelli_tokens = bocelli['tokenized_description'].sum()\n",
    "groban_tokens = groban['tokenized_description'].sum()\n",
    "\n",
    "# Count number of times the positive and negative emojis occur\n",
    "# Positive and negative emojis for Andrea Bocelli\n",
    "def count_emojis(df, tokens_data):\n",
    "    counter = Counter()\n",
    "    for word in tokens_data:\n",
    "        if word in set(df['emojis']):\n",
    "            counter[word] += 1\n",
    "    return counter\n",
    "print(\"Positive Andrea Bocelli Emojis:\")\n",
    "print(count_emojis(positive_emojis, bocelli_tokens))\n",
    "print(\"\\nNegative Andrea Bocelli Emojis:\")\n",
    "print(count_emojis(negative_emojis, bocelli_tokens))"
   ]
  },
  {
   "cell_type": "code",
   "execution_count": 15,
   "id": "1653f28a",
   "metadata": {},
   "outputs": [
    {
     "name": "stdout",
     "output_type": "stream",
     "text": [
      "Positive Josh Groban Emojis:\n",
      "Counter({'❤️': 110, '💙': 68, '💕': 33, '😍': 29, '🙏': 21, '💖': 15, '😁': 7, '😂': 5, '💞': 4, '🙂': 3, '👍': 3, '😀': 2, '😄': 2, '😃': 2, '😅': 1})\n",
      "\n",
      "Negative Josh Groban Emojis:\n",
      "Counter({'😭': 3, '🤢': 1, '😕': 1, '😳': 1, '😔': 1, '🤡': 1, '😒': 1})\n"
     ]
    }
   ],
   "source": [
    "# Positive and negative emojis for Andrea Bocelli\n",
    "print(\"Positive Josh Groban Emojis:\")\n",
    "print(count_emojis(positive_emojis, groban_tokens))\n",
    "print(\"\\nNegative Josh Groban Emojis:\")\n",
    "print(count_emojis(negative_emojis, groban_tokens))"
   ]
  },
  {
   "cell_type": "markdown",
   "id": "fb92eb93",
   "metadata": {},
   "source": [
    "Q: What is the average sentiment of your two artists? \n",
    "\n",
    "A: Andrea Bocelli has an average sentiment of 0.003861 and Josh Groban has an average sentiment of 0.002491\n",
    "\n",
    "---\n",
    "\n",
    "Q: Which positive emoji is the most popular for each artist? Which negative emoji? \n",
    "\n",
    "A: The top positive Andrea Bocelli and Josh emoji is ❤️. The top negative emoji for Andrea Bocelli is 😡 and for Josh Groban it is 😭.\n",
    "\n"
   ]
  }
 ],
 "metadata": {
  "kernelspec": {
   "display_name": "Python 3 (ipykernel)",
   "language": "python",
   "name": "python3"
  },
  "language_info": {
   "codemirror_mode": {
    "name": "ipython",
    "version": 3
   },
   "file_extension": ".py",
   "mimetype": "text/x-python",
   "name": "python",
   "nbconvert_exporter": "python",
   "pygments_lexer": "ipython3",
   "version": "3.9.7"
  }
 },
 "nbformat": 4,
 "nbformat_minor": 5
}
